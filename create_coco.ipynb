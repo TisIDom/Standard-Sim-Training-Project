{
 "cells": [
  {
   "cell_type": "code",
   "execution_count": null,
   "metadata": {},
   "outputs": [],
   "source": [
    "import os\n",
    "os.environ['OPENCV_IO_ENABLE_OPENEXR'] = '1'\n",
    "import datasets.create_coco_json as create_coco_json\n",
    "from utils.temp import sort_by_place"
   ]
  },
  {
   "cell_type": "code",
   "execution_count": null,
   "metadata": {},
   "outputs": [],
   "source": [
    "\"\"\"\n",
    "IMPORTANT\n",
    "Organizes exctracted dataset files by id\n",
    "Uncomment if not already done otherwise find_files() will not work\n",
    "\"\"\"\n",
    "#sort_by_place(\"./data/renders_multicam_diff_1\", 1)"
   ]
  },
  {
   "cell_type": "code",
   "execution_count": null,
   "metadata": {},
   "outputs": [],
   "source": [
    "data_root = \".\\\\data\\\\renders_multicam_diff_1\"\n",
    "files = create_coco_json.find_files(data_root)\n",
    "anno_dict = dict({\"images\": [], \"annotations\": [], \"categories\": []})\n",
    "\n",
    "# Further processing of the files can be done here\n",
    "print(f\"Found {len(files)} data samples\")"
   ]
  },
  {
   "cell_type": "code",
   "execution_count": null,
   "metadata": {},
   "outputs": [],
   "source": [
    "files[0]"
   ]
  },
  {
   "cell_type": "code",
   "execution_count": null,
   "metadata": {},
   "outputs": [],
   "source": [
    "create_coco_json.main_function()"
   ]
  }
 ],
 "metadata": {
  "kernelspec": {
   "display_name": "myenv",
   "language": "python",
   "name": "python3"
  },
  "language_info": {
   "codemirror_mode": {
    "name": "ipython",
    "version": 3
   },
   "file_extension": ".py",
   "mimetype": "text/x-python",
   "name": "python",
   "nbconvert_exporter": "python",
   "pygments_lexer": "ipython3",
   "version": "3.10.13"
  }
 },
 "nbformat": 4,
 "nbformat_minor": 2
}
