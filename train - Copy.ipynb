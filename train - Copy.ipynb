{
 "cells": [
  {
   "cell_type": "code",
   "execution_count": 1,
   "metadata": {},
   "outputs": [],
   "source": [
    "import os\n",
    "import numpy as np\n",
    "import tensorflow as tf\n",
    "from tensorflow.keras.preprocessing.image import load_img, img_to_array\n",
    "from sklearn.model_selection import train_test_split\n",
    "import json\n",
    "from tensorflow.keras.layers import Input, Conv2D, MaxPooling2D, concatenate, Conv2DTranspose\n",
    "import tensorflow as tf\n",
    "from tensorflow.keras.layers import Input\n",
    "from tensorflow.keras.models import Model\n",
    "from tensorflow.keras.applications import ResNet50\n",
    "from tensorflow.keras.layers import Conv2D, BatchNormalization, Activation\n",
    "\n",
    "import tensorflow as tf\n",
    "from tensorflow.keras.layers import Input, Concatenate\n",
    "from tensorflow.keras.models import Model\n",
    "from tensorflow.keras.applications import ResNet50\n",
    "from tensorflow.keras.layers import Conv2D, BatchNormalization, Activation, Dropout\n",
    "from tensorflow.keras.optimizers import Adam\n",
    "from tensorflow.keras.regularizers import l2\n",
    "\n",
    "from matplotlib import pyplot as plt\n",
    "import cv2\n"
   ]
  },
  {
   "cell_type": "code",
   "execution_count": 2,
   "metadata": {},
   "outputs": [],
   "source": [
    "# Load image and mask paths\n",
    "def load_image_paths(base_dir, scene_id):\n",
    "    #before_image1 = os.path.join(base_dir, f'{scene_id}_change-0.png')\n",
    "    before_image1 = base_dir + '/' + scene_id + '_change-0.png'\n",
    "    #after_image1 = os.path.join(base_dir, f'{scene_id}_change-1.png')\n",
    "    after_image1 = base_dir + '/' + scene_id + '_change-1.png'\n",
    "    #mask = os.path.join(base_dir, f'{scene_id}_mask.png')\n",
    "    mask = base_dir + '/' + scene_id + '_mask.png'\n",
    "    return before_image1, after_image1, mask"
   ]
  },
  {
   "cell_type": "code",
   "execution_count": 3,
   "metadata": {},
   "outputs": [],
   "source": [
    "# Data generator\n",
    "class ChangeDetectionDataset(tf.keras.utils.Sequence):\n",
    "    def __init__(self, image_pairs = None, masks = None, batch_size=4, image_size=(256, 256), shuffle=True):\n",
    "        self.json_file = open('utils/synthetic_anno.json')\n",
    "        self.coco = json.load(self.json_file) \n",
    "        self.process_images()\n",
    "        if(image_pairs is None and masks is None):\n",
    "            self.image_pairs, self.masks = self.get_image_pairs_and_masks('data/renders_multicam_diff_1')\n",
    "        else:\n",
    "            self.image_pairs = image_pairs\n",
    "            self.masks = masks\n",
    "        self.batch_size = batch_size\n",
    "        self.image_size = image_size\n",
    "        self.shuffle = shuffle\n",
    "        self.indices = np.arange(len(self.image_pairs))\n",
    "        #self.on_epoch_end()\n",
    "        \n",
    "    def get_image_pairs_and_masks(self, base_dir):\n",
    "        image_pairs = []\n",
    "        masks = []\n",
    "        \n",
    "        scene_ids = [item['scene'] for item in self.coco['images']]\n",
    "        \n",
    "        for scene_id in scene_ids:\n",
    "            before_image1, after_image1, mask = load_image_paths(base_dir, scene_id)\n",
    "            image_pairs.append((before_image1, after_image1))\n",
    "            masks.append(mask)\n",
    "            \n",
    "            \n",
    "        return image_pairs, masks\n",
    "    \n",
    "    def __len__(self):\n",
    "        return int(np.ceil(len(self.image_pairs) / self.batch_size))\n",
    "    \n",
    "    def __getitem__(self, index):\n",
    "        indices = self.indices[index * self.batch_size:(index + 1) * self.batch_size]\n",
    "        batch_image_pairs = [self.image_pairs[i] for i in indices]\n",
    "        batch_masks = [self.masks[i] for i in indices]\n",
    "        \n",
    "        #X1, X2, y = self.__data_generation(batch_image_pairs, batch_masks)\n",
    "        X, y = self.__data_generation(batch_image_pairs, batch_masks)\n",
    "        #return [X1, X2], y\n",
    "        return X, y\n",
    "    \n",
    "    def on_epoch_end(self):\n",
    "        self.indices = np.arange(len(self.image_pairs))\n",
    "        if self.shuffle:\n",
    "            np.random.shuffle(self.indices)\n",
    "    \n",
    "    # def __data_generation(self, batch_image_pairs, batch_masks):\n",
    "    #     X1 = np.zeros((self.batch_size, *self.image_size, 3), dtype=np.float32)\n",
    "    #     X2 = np.zeros((self.batch_size, *self.image_size, 3), dtype=np.float32)\n",
    "    #     y = np.zeros((self.batch_size, *self.image_size, 3), dtype=np.float32)  # 3 channels for color-coded mask\n",
    "        \n",
    "    #     for i, (img_paths, mask_path) in enumerate(zip(batch_image_pairs, batch_masks)):\n",
    "    #         before_img = img_to_array(load_img(img_paths[0], target_size=self.image_size)) / 255.0\n",
    "    #         after_img = img_to_array(load_img(img_paths[1], target_size=self.image_size)) / 255.0\n",
    "    #         mask = img_to_array(load_img(mask_path, target_size=self.image_size)) / 255.0\n",
    "            \n",
    "    #         X1[i, :, :, :] = before_img\n",
    "    #         X2[i, :, :, :] = after_img\n",
    "    #         y[i, :, :, :] = mask\n",
    "        \n",
    "    #     return X1, X2, y\n",
    "    \n",
    "    def __data_generation(self, batch_image_pairs, batch_masks):\n",
    "        X = np.zeros((self.batch_size, *self.image_size, 6), dtype=np.float32)  # 6 channels for concatenated images\n",
    "        y = np.zeros((self.batch_size, *self.image_size, 4), dtype=np.float32)  # 3 channels for color-coded mask\n",
    "        \n",
    "        for i, (img_paths, mask_path) in enumerate(zip(batch_image_pairs, batch_masks)):\n",
    "            before_img = img_to_array(load_img(img_paths[0], target_size=self.image_size)) / 255.0\n",
    "            after_img = img_to_array(load_img(img_paths[1], target_size=self.image_size)) / 255.0\n",
    "            mask = img_to_array(load_img(mask_path, target_size=self.image_size)) / 255.0\n",
    "\n",
    "            mask = self.rgb_to_onehot(mask)\n",
    "            \n",
    "            X[i, :, :, :3] = before_img\n",
    "            X[i, :, :, 3:] = after_img\n",
    "            y[i, :, :, :] = mask\n",
    "        \n",
    "        return X, y\n",
    "    \n",
    "    def process_images(self):\n",
    "        self.images = {}\n",
    "        for image in self.coco['images']:\n",
    "            image_id = image['id']\n",
    "            if image_id in self.images:\n",
    "                print(\"ERROR: Skipping duplicate image id: {}\".format(image))\n",
    "            else:\n",
    "                self.images[image_id] = image\n",
    "\n",
    "    def rgb_to_onehot(self, rgb_image):\n",
    "        onehot_image = np.zeros((rgb_image.shape[0], rgb_image.shape[1], 4), dtype=np.float32)\n",
    "        onehot_image[(rgb_image == [0, 0, 0]).all(axis=-1)] = [1, 0, 0, 0]     # Background\n",
    "        onehot_image[(rgb_image == [255, 0, 0]).all(axis=-1)] = [0, 1, 0, 0]   # Red (Taken)\n",
    "        onehot_image[(rgb_image == [0, 255, 0]).all(axis=-1)] = [0, 0, 1, 0]   # Green (Added)\n",
    "        onehot_image[(rgb_image == [0, 0, 255]).all(axis=-1)] = [0, 0, 0, 1]   # Blue (Shifted)\n",
    "        return onehot_image\n",
    "    "
   ]
  },
  {
   "cell_type": "code",
   "execution_count": 4,
   "metadata": {},
   "outputs": [],
   "source": [
    "def onehot_to_rgb(onehot_mask):\n",
    "    rgb_image = np.zeros((onehot_mask.shape[0], onehot_mask.shape[1], 3), dtype=np.float32)\n",
    "    rgb_image[onehot_mask[:, :, 0] == 1] = [0, 0, 0]   # Background\n",
    "    rgb_image[onehot_mask[:, :, 1] == 1] = [255, 0, 0] # Red (Taken)\n",
    "    rgb_image[onehot_mask[:, :, 2] == 1] = [0, 255, 0] # Green (Added)\n",
    "    rgb_image[onehot_mask[:, :, 3] == 1] = [0, 0, 255] # Blue (Shifted)\n",
    "    return rgb_image"
   ]
  },
  {
   "cell_type": "code",
   "execution_count": 5,
   "metadata": {},
   "outputs": [
    {
     "name": "stdout",
     "output_type": "stream",
     "text": [
      "{0: {'id': 0, 'license': 1, 'scene': '0101050fe5ed48399f99247e7534d6e2/stcg.us.0003_0101050fe5ed48399f99247e7534d6e2_cam-0', 'width': 1280, 'height': 720, 'randommats1': '0101050fe5ed48399f99247e7534d6e2/stcg.us.0003_0101050fe5ed48399f99247e7534d6e2_cam-0_change-0-randommats.png', 'randommats2': '0101050fe5ed48399f99247e7534d6e2/stcg.us.0003_0101050fe5ed48399f99247e7534d6e2_cam-0_change-1-randommats.png', 'depth1': '0101050fe5ed48399f99247e7534d6e2/stcg.us.0003_0101050fe5ed48399f99247e7534d6e2_cam-0_change-0-depth0001.exr', 'depth2': '0101050fe5ed48399f99247e7534d6e2/stcg.us.0003_0101050fe5ed48399f99247e7534d6e2_cam-0_change-1-depth0001.exr', 'image1': '0101050fe5ed48399f99247e7534d6e2/stcg.us.0003_0101050fe5ed48399f99247e7534d6e2_cam-0_change-0.png', 'image2': '0101050fe5ed48399f99247e7534d6e2/stcg.us.0003_0101050fe5ed48399f99247e7534d6e2_cam-0_change-1.png'}, 1: {'id': 1, 'license': 1, 'scene': '0101050fe5ed48399f99247e7534d6e2/stcg.us.0003_0101050fe5ed48399f99247e7534d6e2_cam-1', 'width': 1280, 'height': 720, 'randommats1': '0101050fe5ed48399f99247e7534d6e2/stcg.us.0003_0101050fe5ed48399f99247e7534d6e2_cam-1_change-0-randommats.png', 'randommats2': '0101050fe5ed48399f99247e7534d6e2/stcg.us.0003_0101050fe5ed48399f99247e7534d6e2_cam-1_change-1-randommats.png', 'depth1': '0101050fe5ed48399f99247e7534d6e2/stcg.us.0003_0101050fe5ed48399f99247e7534d6e2_cam-1_change-0-depth0001.exr', 'depth2': '0101050fe5ed48399f99247e7534d6e2/stcg.us.0003_0101050fe5ed48399f99247e7534d6e2_cam-1_change-1-depth0001.exr', 'image1': '0101050fe5ed48399f99247e7534d6e2/stcg.us.0003_0101050fe5ed48399f99247e7534d6e2_cam-1_change-0.png', 'image2': '0101050fe5ed48399f99247e7534d6e2/stcg.us.0003_0101050fe5ed48399f99247e7534d6e2_cam-1_change-1.png'}, 2: {'id': 2, 'license': 1, 'scene': '0101050fe5ed48399f99247e7534d6e2/stcg.us.0003_0101050fe5ed48399f99247e7534d6e2_cam-2', 'width': 1280, 'height': 720, 'randommats1': '0101050fe5ed48399f99247e7534d6e2/stcg.us.0003_0101050fe5ed48399f99247e7534d6e2_cam-2_change-0-randommats.png', 'randommats2': '0101050fe5ed48399f99247e7534d6e2/stcg.us.0003_0101050fe5ed48399f99247e7534d6e2_cam-2_change-1-randommats.png', 'depth1': '0101050fe5ed48399f99247e7534d6e2/stcg.us.0003_0101050fe5ed48399f99247e7534d6e2_cam-2_change-0-depth0001.exr', 'depth2': '0101050fe5ed48399f99247e7534d6e2/stcg.us.0003_0101050fe5ed48399f99247e7534d6e2_cam-2_change-1-depth0001.exr', 'image1': '0101050fe5ed48399f99247e7534d6e2/stcg.us.0003_0101050fe5ed48399f99247e7534d6e2_cam-2_change-0.png', 'image2': '0101050fe5ed48399f99247e7534d6e2/stcg.us.0003_0101050fe5ed48399f99247e7534d6e2_cam-2_change-1.png'}, 3: {'id': 3, 'license': 1, 'scene': '0a2e24a0c2f04db7b3894f192b211ac7/stcg.us.0003_0a2e24a0c2f04db7b3894f192b211ac7_cam-0', 'width': 1280, 'height': 720, 'randommats1': '0a2e24a0c2f04db7b3894f192b211ac7/stcg.us.0003_0a2e24a0c2f04db7b3894f192b211ac7_cam-0_change-0-randommats.png', 'randommats2': '0a2e24a0c2f04db7b3894f192b211ac7/stcg.us.0003_0a2e24a0c2f04db7b3894f192b211ac7_cam-0_change-1-randommats.png', 'depth1': '0a2e24a0c2f04db7b3894f192b211ac7/stcg.us.0003_0a2e24a0c2f04db7b3894f192b211ac7_cam-0_change-0-depth0001.exr', 'depth2': '0a2e24a0c2f04db7b3894f192b211ac7/stcg.us.0003_0a2e24a0c2f04db7b3894f192b211ac7_cam-0_change-1-depth0001.exr', 'image1': '0a2e24a0c2f04db7b3894f192b211ac7/stcg.us.0003_0a2e24a0c2f04db7b3894f192b211ac7_cam-0_change-0.png', 'image2': '0a2e24a0c2f04db7b3894f192b211ac7/stcg.us.0003_0a2e24a0c2f04db7b3894f192b211ac7_cam-0_change-1.png'}, 4: {'id': 4, 'license': 1, 'scene': '0a2e24a0c2f04db7b3894f192b211ac7/stcg.us.0003_0a2e24a0c2f04db7b3894f192b211ac7_cam-1', 'width': 1280, 'height': 720, 'randommats1': '0a2e24a0c2f04db7b3894f192b211ac7/stcg.us.0003_0a2e24a0c2f04db7b3894f192b211ac7_cam-1_change-0-randommats.png', 'randommats2': '0a2e24a0c2f04db7b3894f192b211ac7/stcg.us.0003_0a2e24a0c2f04db7b3894f192b211ac7_cam-1_change-1-randommats.png', 'depth1': '0a2e24a0c2f04db7b3894f192b211ac7/stcg.us.0003_0a2e24a0c2f04db7b3894f192b211ac7_cam-1_change-0-depth0001.exr', 'depth2': '0a2e24a0c2f04db7b3894f192b211ac7/stcg.us.0003_0a2e24a0c2f04db7b3894f192b211ac7_cam-1_change-1-depth0001.exr', 'image1': '0a2e24a0c2f04db7b3894f192b211ac7/stcg.us.0003_0a2e24a0c2f04db7b3894f192b211ac7_cam-1_change-0.png', 'image2': '0a2e24a0c2f04db7b3894f192b211ac7/stcg.us.0003_0a2e24a0c2f04db7b3894f192b211ac7_cam-1_change-1.png'}, 5: {'id': 5, 'license': 1, 'scene': '0a2e24a0c2f04db7b3894f192b211ac7/stcg.us.0003_0a2e24a0c2f04db7b3894f192b211ac7_cam-2', 'width': 1280, 'height': 720, 'randommats1': '0a2e24a0c2f04db7b3894f192b211ac7/stcg.us.0003_0a2e24a0c2f04db7b3894f192b211ac7_cam-2_change-0-randommats.png', 'randommats2': '0a2e24a0c2f04db7b3894f192b211ac7/stcg.us.0003_0a2e24a0c2f04db7b3894f192b211ac7_cam-2_change-1-randommats.png', 'depth1': '0a2e24a0c2f04db7b3894f192b211ac7/stcg.us.0003_0a2e24a0c2f04db7b3894f192b211ac7_cam-2_change-0-depth0001.exr', 'depth2': '0a2e24a0c2f04db7b3894f192b211ac7/stcg.us.0003_0a2e24a0c2f04db7b3894f192b211ac7_cam-2_change-1-depth0001.exr', 'image1': '0a2e24a0c2f04db7b3894f192b211ac7/stcg.us.0003_0a2e24a0c2f04db7b3894f192b211ac7_cam-2_change-0.png', 'image2': '0a2e24a0c2f04db7b3894f192b211ac7/stcg.us.0003_0a2e24a0c2f04db7b3894f192b211ac7_cam-2_change-1.png'}, 6: {'id': 6, 'license': 1, 'scene': '0a6c46c7c0014b3484c443fdb570300f/stcg.us.0003_0a6c46c7c0014b3484c443fdb570300f_cam-0', 'width': 1280, 'height': 720, 'randommats1': '0a6c46c7c0014b3484c443fdb570300f/stcg.us.0003_0a6c46c7c0014b3484c443fdb570300f_cam-0_change-0-randommats.png', 'randommats2': '0a6c46c7c0014b3484c443fdb570300f/stcg.us.0003_0a6c46c7c0014b3484c443fdb570300f_cam-0_change-1-randommats.png', 'depth1': '0a6c46c7c0014b3484c443fdb570300f/stcg.us.0003_0a6c46c7c0014b3484c443fdb570300f_cam-0_change-0-depth0001.exr', 'depth2': '0a6c46c7c0014b3484c443fdb570300f/stcg.us.0003_0a6c46c7c0014b3484c443fdb570300f_cam-0_change-1-depth0001.exr', 'image1': '0a6c46c7c0014b3484c443fdb570300f/stcg.us.0003_0a6c46c7c0014b3484c443fdb570300f_cam-0_change-0.png', 'image2': '0a6c46c7c0014b3484c443fdb570300f/stcg.us.0003_0a6c46c7c0014b3484c443fdb570300f_cam-0_change-1.png'}, 7: {'id': 7, 'license': 1, 'scene': '0a6c46c7c0014b3484c443fdb570300f/stcg.us.0003_0a6c46c7c0014b3484c443fdb570300f_cam-1', 'width': 1280, 'height': 720, 'randommats1': '0a6c46c7c0014b3484c443fdb570300f/stcg.us.0003_0a6c46c7c0014b3484c443fdb570300f_cam-1_change-0-randommats.png', 'randommats2': '0a6c46c7c0014b3484c443fdb570300f/stcg.us.0003_0a6c46c7c0014b3484c443fdb570300f_cam-1_change-1-randommats.png', 'depth1': '0a6c46c7c0014b3484c443fdb570300f/stcg.us.0003_0a6c46c7c0014b3484c443fdb570300f_cam-1_change-0-depth0001.exr', 'depth2': '0a6c46c7c0014b3484c443fdb570300f/stcg.us.0003_0a6c46c7c0014b3484c443fdb570300f_cam-1_change-1-depth0001.exr', 'image1': '0a6c46c7c0014b3484c443fdb570300f/stcg.us.0003_0a6c46c7c0014b3484c443fdb570300f_cam-1_change-0.png', 'image2': '0a6c46c7c0014b3484c443fdb570300f/stcg.us.0003_0a6c46c7c0014b3484c443fdb570300f_cam-1_change-1.png'}, 8: {'id': 8, 'license': 1, 'scene': '0a6c46c7c0014b3484c443fdb570300f/stcg.us.0003_0a6c46c7c0014b3484c443fdb570300f_cam-2', 'width': 1280, 'height': 720, 'randommats1': '0a6c46c7c0014b3484c443fdb570300f/stcg.us.0003_0a6c46c7c0014b3484c443fdb570300f_cam-2_change-0-randommats.png', 'randommats2': '0a6c46c7c0014b3484c443fdb570300f/stcg.us.0003_0a6c46c7c0014b3484c443fdb570300f_cam-2_change-1-randommats.png', 'depth1': '0a6c46c7c0014b3484c443fdb570300f/stcg.us.0003_0a6c46c7c0014b3484c443fdb570300f_cam-2_change-0-depth0001.exr', 'depth2': '0a6c46c7c0014b3484c443fdb570300f/stcg.us.0003_0a6c46c7c0014b3484c443fdb570300f_cam-2_change-1-depth0001.exr', 'image1': '0a6c46c7c0014b3484c443fdb570300f/stcg.us.0003_0a6c46c7c0014b3484c443fdb570300f_cam-2_change-0.png', 'image2': '0a6c46c7c0014b3484c443fdb570300f/stcg.us.0003_0a6c46c7c0014b3484c443fdb570300f_cam-2_change-1.png'}, 9: {'id': 9, 'license': 1, 'scene': '0ac3ba1e56d04ebd9db5bfe5526e1a06/stcg.us.0003_0ac3ba1e56d04ebd9db5bfe5526e1a06_cam-0', 'width': 1280, 'height': 720, 'randommats1': '0ac3ba1e56d04ebd9db5bfe5526e1a06/stcg.us.0003_0ac3ba1e56d04ebd9db5bfe5526e1a06_cam-0_change-0-randommats.png', 'randommats2': '0ac3ba1e56d04ebd9db5bfe5526e1a06/stcg.us.0003_0ac3ba1e56d04ebd9db5bfe5526e1a06_cam-0_change-1-randommats.png', 'depth1': '0ac3ba1e56d04ebd9db5bfe5526e1a06/stcg.us.0003_0ac3ba1e56d04ebd9db5bfe5526e1a06_cam-0_change-0-depth0001.exr', 'depth2': '0ac3ba1e56d04ebd9db5bfe5526e1a06/stcg.us.0003_0ac3ba1e56d04ebd9db5bfe5526e1a06_cam-0_change-1-depth0001.exr', 'image1': '0ac3ba1e56d04ebd9db5bfe5526e1a06/stcg.us.0003_0ac3ba1e56d04ebd9db5bfe5526e1a06_cam-0_change-0.png', 'image2': '0ac3ba1e56d04ebd9db5bfe5526e1a06/stcg.us.0003_0ac3ba1e56d04ebd9db5bfe5526e1a06_cam-0_change-1.png'}, 10: {'id': 10, 'license': 1, 'scene': '0ac3ba1e56d04ebd9db5bfe5526e1a06/stcg.us.0003_0ac3ba1e56d04ebd9db5bfe5526e1a06_cam-1', 'width': 1280, 'height': 720, 'randommats1': '0ac3ba1e56d04ebd9db5bfe5526e1a06/stcg.us.0003_0ac3ba1e56d04ebd9db5bfe5526e1a06_cam-1_change-0-randommats.png', 'randommats2': '0ac3ba1e56d04ebd9db5bfe5526e1a06/stcg.us.0003_0ac3ba1e56d04ebd9db5bfe5526e1a06_cam-1_change-1-randommats.png', 'depth1': '0ac3ba1e56d04ebd9db5bfe5526e1a06/stcg.us.0003_0ac3ba1e56d04ebd9db5bfe5526e1a06_cam-1_change-0-depth0001.exr', 'depth2': '0ac3ba1e56d04ebd9db5bfe5526e1a06/stcg.us.0003_0ac3ba1e56d04ebd9db5bfe5526e1a06_cam-1_change-1-depth0001.exr', 'image1': '0ac3ba1e56d04ebd9db5bfe5526e1a06/stcg.us.0003_0ac3ba1e56d04ebd9db5bfe5526e1a06_cam-1_change-0.png', 'image2': '0ac3ba1e56d04ebd9db5bfe5526e1a06/stcg.us.0003_0ac3ba1e56d04ebd9db5bfe5526e1a06_cam-1_change-1.png'}, 11: {'id': 11, 'license': 1, 'scene': '0ac3ba1e56d04ebd9db5bfe5526e1a06/stcg.us.0003_0ac3ba1e56d04ebd9db5bfe5526e1a06_cam-2', 'width': 1280, 'height': 720, 'randommats1': '0ac3ba1e56d04ebd9db5bfe5526e1a06/stcg.us.0003_0ac3ba1e56d04ebd9db5bfe5526e1a06_cam-2_change-0-randommats.png', 'randommats2': '0ac3ba1e56d04ebd9db5bfe5526e1a06/stcg.us.0003_0ac3ba1e56d04ebd9db5bfe5526e1a06_cam-2_change-1-randommats.png', 'depth1': '0ac3ba1e56d04ebd9db5bfe5526e1a06/stcg.us.0003_0ac3ba1e56d04ebd9db5bfe5526e1a06_cam-2_change-0-depth0001.exr', 'depth2': '0ac3ba1e56d04ebd9db5bfe5526e1a06/stcg.us.0003_0ac3ba1e56d04ebd9db5bfe5526e1a06_cam-2_change-1-depth0001.exr', 'image1': '0ac3ba1e56d04ebd9db5bfe5526e1a06/stcg.us.0003_0ac3ba1e56d04ebd9db5bfe5526e1a06_cam-2_change-0.png', 'image2': '0ac3ba1e56d04ebd9db5bfe5526e1a06/stcg.us.0003_0ac3ba1e56d04ebd9db5bfe5526e1a06_cam-2_change-1.png'}, 12: {'id': 12, 'license': 1, 'scene': '0be834641c3647afbaaf943a587b9133/stcg.us.0003_0be834641c3647afbaaf943a587b9133_cam-0', 'width': 1280, 'height': 720, 'randommats1': '0be834641c3647afbaaf943a587b9133/stcg.us.0003_0be834641c3647afbaaf943a587b9133_cam-0_change-0-randommats.png', 'randommats2': '0be834641c3647afbaaf943a587b9133/stcg.us.0003_0be834641c3647afbaaf943a587b9133_cam-0_change-1-randommats.png', 'depth1': '0be834641c3647afbaaf943a587b9133/stcg.us.0003_0be834641c3647afbaaf943a587b9133_cam-0_change-0-depth0001.exr', 'depth2': '0be834641c3647afbaaf943a587b9133/stcg.us.0003_0be834641c3647afbaaf943a587b9133_cam-0_change-1-depth0001.exr', 'image1': '0be834641c3647afbaaf943a587b9133/stcg.us.0003_0be834641c3647afbaaf943a587b9133_cam-0_change-0.png', 'image2': '0be834641c3647afbaaf943a587b9133/stcg.us.0003_0be834641c3647afbaaf943a587b9133_cam-0_change-1.png'}, 13: {'id': 13, 'license': 1, 'scene': '0be834641c3647afbaaf943a587b9133/stcg.us.0003_0be834641c3647afbaaf943a587b9133_cam-1', 'width': 1280, 'height': 720, 'randommats1': '0be834641c3647afbaaf943a587b9133/stcg.us.0003_0be834641c3647afbaaf943a587b9133_cam-1_change-0-randommats.png', 'randommats2': '0be834641c3647afbaaf943a587b9133/stcg.us.0003_0be834641c3647afbaaf943a587b9133_cam-1_change-1-randommats.png', 'depth1': '0be834641c3647afbaaf943a587b9133/stcg.us.0003_0be834641c3647afbaaf943a587b9133_cam-1_change-0-depth0001.exr', 'depth2': '0be834641c3647afbaaf943a587b9133/stcg.us.0003_0be834641c3647afbaaf943a587b9133_cam-1_change-1-depth0001.exr', 'image1': '0be834641c3647afbaaf943a587b9133/stcg.us.0003_0be834641c3647afbaaf943a587b9133_cam-1_change-0.png', 'image2': '0be834641c3647afbaaf943a587b9133/stcg.us.0003_0be834641c3647afbaaf943a587b9133_cam-1_change-1.png'}, 14: {'id': 14, 'license': 1, 'scene': '0be834641c3647afbaaf943a587b9133/stcg.us.0003_0be834641c3647afbaaf943a587b9133_cam-2', 'width': 1280, 'height': 720, 'randommats1': '0be834641c3647afbaaf943a587b9133/stcg.us.0003_0be834641c3647afbaaf943a587b9133_cam-2_change-0-randommats.png', 'randommats2': '0be834641c3647afbaaf943a587b9133/stcg.us.0003_0be834641c3647afbaaf943a587b9133_cam-2_change-1-randommats.png', 'depth1': '0be834641c3647afbaaf943a587b9133/stcg.us.0003_0be834641c3647afbaaf943a587b9133_cam-2_change-0-depth0001.exr', 'depth2': '0be834641c3647afbaaf943a587b9133/stcg.us.0003_0be834641c3647afbaaf943a587b9133_cam-2_change-1-depth0001.exr', 'image1': '0be834641c3647afbaaf943a587b9133/stcg.us.0003_0be834641c3647afbaaf943a587b9133_cam-2_change-0.png', 'image2': '0be834641c3647afbaaf943a587b9133/stcg.us.0003_0be834641c3647afbaaf943a587b9133_cam-2_change-1.png'}}\n"
     ]
    }
   ],
   "source": [
    "dataset = ChangeDetectionDataset()\n",
    "\n",
    "print(dataset.images)"
   ]
  },
  {
   "cell_type": "code",
   "execution_count": 57,
   "metadata": {},
   "outputs": [
    {
     "name": "stdout",
     "output_type": "stream",
     "text": [
      "('data/renders_multicam_diff_1/0101050fe5ed48399f99247e7534d6e2/stcg.us.0003_0101050fe5ed48399f99247e7534d6e2_cam-0_change-0.png', 'data/renders_multicam_diff_1/0101050fe5ed48399f99247e7534d6e2/stcg.us.0003_0101050fe5ed48399f99247e7534d6e2_cam-0_change-1.png')\n",
      "(4, 256, 256, 4)\n"
     ]
    }
   ],
   "source": [
    "X, y_true = dataset.__getitem__(0)\n",
    "print(dataset.image_pairs[0])\n",
    "print(y_true.shape)"
   ]
  },
  {
   "cell_type": "code",
   "execution_count": 58,
   "metadata": {},
   "outputs": [
    {
     "data": {
      "image/png": "[encoded data removed]",
      "text/plain": [
       "<Figure size 1500x500 with 4 Axes>"
      ]
     },
     "metadata": {},
     "output_type": "display_data"
    }
   ],
   "source": [
    "num_classes = y_true.shape[-1]\n",
    "\n",
    "plt.figure(figsize=(15, 5))\n",
    "for i in range(num_classes):\n",
    "    plt.subplot(1, num_classes, i + 1)\n",
    "    plt.imshow(y_true[0, :, :, i], cmap='gray')\n",
    "    plt.title(f'Class {i}')\n",
    "    plt.axis('off')\n",
    "\n",
    "plt.show()"
   ]
  },
  {
   "cell_type": "code",
   "execution_count": 65,
   "metadata": {},
   "outputs": [
    {
     "ename": "ValueError",
     "evalue": "operands could not be broadcast together with shapes (256,256) (3,) ",
     "output_type": "error",
     "traceback": [
      "\u001b[1;31m---------------------------------------------------------------------------\u001b[0m",
      "\u001b[1;31mValueError\u001b[0m                                Traceback (most recent call last)",
      "Cell \u001b[1;32mIn[65], line 1\u001b[0m\n\u001b[1;32m----> 1\u001b[0m y_new \u001b[38;5;241m=\u001b[39m \u001b[43mdataset\u001b[49m\u001b[38;5;241;43m.\u001b[39;49m\u001b[43mrgb_to_onehot\u001b[49m\u001b[43m(\u001b[49m\u001b[43my_true\u001b[49m\u001b[43m[\u001b[49m\u001b[38;5;241;43m0\u001b[39;49m\u001b[43m,\u001b[49m\u001b[43m \u001b[49m\u001b[43m:\u001b[49m\u001b[43m,\u001b[49m\u001b[43m \u001b[49m\u001b[43m:\u001b[49m\u001b[43m,\u001b[49m\u001b[43m \u001b[49m\u001b[38;5;241;43m0\u001b[39;49m\u001b[43m]\u001b[49m\u001b[43m)\u001b[49m\n",
      "Cell \u001b[1;32mIn[3], line 94\u001b[0m, in \u001b[0;36mChangeDetectionDataset.rgb_to_onehot\u001b[1;34m(self, rgb_image)\u001b[0m\n\u001b[0;32m     92\u001b[0m \u001b[38;5;28;01mdef\u001b[39;00m \u001b[38;5;21mrgb_to_onehot\u001b[39m(\u001b[38;5;28mself\u001b[39m, rgb_image):\n\u001b[0;32m     93\u001b[0m     onehot_image \u001b[38;5;241m=\u001b[39m np\u001b[38;5;241m.\u001b[39mzeros((rgb_image\u001b[38;5;241m.\u001b[39mshape[\u001b[38;5;241m0\u001b[39m], rgb_image\u001b[38;5;241m.\u001b[39mshape[\u001b[38;5;241m1\u001b[39m], \u001b[38;5;241m4\u001b[39m), dtype\u001b[38;5;241m=\u001b[39mnp\u001b[38;5;241m.\u001b[39mfloat32)\n\u001b[1;32m---> 94\u001b[0m     onehot_image[(\u001b[43mrgb_image\u001b[49m\u001b[43m \u001b[49m\u001b[38;5;241;43m==\u001b[39;49m\u001b[43m \u001b[49m\u001b[43m[\u001b[49m\u001b[38;5;241;43m0\u001b[39;49m\u001b[43m,\u001b[49m\u001b[43m \u001b[49m\u001b[38;5;241;43m0\u001b[39;49m\u001b[43m,\u001b[49m\u001b[43m \u001b[49m\u001b[38;5;241;43m0\u001b[39;49m\u001b[43m]\u001b[49m)\u001b[38;5;241m.\u001b[39mall(axis\u001b[38;5;241m=\u001b[39m\u001b[38;5;241m-\u001b[39m\u001b[38;5;241m1\u001b[39m)] \u001b[38;5;241m=\u001b[39m [\u001b[38;5;241m1\u001b[39m, \u001b[38;5;241m0\u001b[39m, \u001b[38;5;241m0\u001b[39m, \u001b[38;5;241m0\u001b[39m]     \u001b[38;5;66;03m# Background\u001b[39;00m\n\u001b[0;32m     95\u001b[0m     onehot_image[(rgb_image \u001b[38;5;241m==\u001b[39m [\u001b[38;5;241m255\u001b[39m, \u001b[38;5;241m0\u001b[39m, \u001b[38;5;241m0\u001b[39m])\u001b[38;5;241m.\u001b[39mall(axis\u001b[38;5;241m=\u001b[39m\u001b[38;5;241m-\u001b[39m\u001b[38;5;241m1\u001b[39m)] \u001b[38;5;241m=\u001b[39m [\u001b[38;5;241m0\u001b[39m, \u001b[38;5;241m1\u001b[39m, \u001b[38;5;241m0\u001b[39m, \u001b[38;5;241m0\u001b[39m]   \u001b[38;5;66;03m# Red (Taken)\u001b[39;00m\n\u001b[0;32m     96\u001b[0m     onehot_image[(rgb_image \u001b[38;5;241m==\u001b[39m [\u001b[38;5;241m0\u001b[39m, \u001b[38;5;241m255\u001b[39m, \u001b[38;5;241m0\u001b[39m])\u001b[38;5;241m.\u001b[39mall(axis\u001b[38;5;241m=\u001b[39m\u001b[38;5;241m-\u001b[39m\u001b[38;5;241m1\u001b[39m)] \u001b[38;5;241m=\u001b[39m [\u001b[38;5;241m0\u001b[39m, \u001b[38;5;241m0\u001b[39m, \u001b[38;5;241m1\u001b[39m, \u001b[38;5;241m0\u001b[39m]   \u001b[38;5;66;03m# Green (Added)\u001b[39;00m\n",
      "\u001b[1;31mValueError\u001b[0m: operands could not be broadcast together with shapes (256,256) (3,) "
     ]
    }
   ],
   "source": [
    "y_new = dataset.rgb_to_onehot(y_true[0, :, :, 0])"
   ]
  },
  {
   "cell_type": "code",
   "execution_count": 62,
   "metadata": {},
   "outputs": [],
   "source": [
    "y_new = onehot_to_rgb(y_new)"
   ]
  },
  {
   "cell_type": "code",
   "execution_count": 63,
   "metadata": {},
   "outputs": [
    {
     "data": {
      "text/plain": [
       "<matplotlib.image.AxesImage at 0x247d6da8790>"
      ]
     },
     "execution_count": 63,
     "metadata": {},
     "output_type": "execute_result"
    },
    {
     "data": {
      "image/png": "[encoded data removed]",
      "text/plain": [
       "<Figure size 640x480 with 1 Axes>"
      ]
     },
     "metadata": {},
     "output_type": "display_data"
    }
   ],
   "source": [
    "plt.imshow(y_new)"
   ]
  }
 ],
 "metadata": {
  "kernelspec": {
   "display_name": "ml",
   "language": "python",
   "name": "python3"
  },
  "language_info": {
   "codemirror_mode": {
    "name": "ipython",
    "version": 3
   },
   "file_extension": ".py",
   "mimetype": "text/x-python",
   "name": "python",
   "nbconvert_exporter": "python",
   "pygments_lexer": "ipython3",
   "version": "3.10.13"
  }
 },
 "nbformat": 4,
 "nbformat_minor": 2
}
