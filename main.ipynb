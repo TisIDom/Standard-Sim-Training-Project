{
 "cells": [
  {
   "cell_type": "code",
   "execution_count": 1,
   "metadata": {},
   "outputs": [],
   "source": [
    "import os\n",
    "from glob import glob\n",
    "import datasets.create_dataset_json as create_dataset_json\n",
    "import os\n",
    "import cv2\n",
    "import time\n",
    "import json\n",
    "import numpy as np\n",
    "import glob\n",
    "from PIL import Image\n",
    "from skimage import measure\n",
    "#from matplotlib.patches import Polygon\n",
    "from shapely.geometry import Polygon, MultiPolygon\n",
    "from typing import Any, Dict, List, Optional, Set\n",
    "from utils.temp import sort_by_place"
   ]
  },
  {
   "cell_type": "code",
   "execution_count": 4,
   "metadata": {},
   "outputs": [
    {
     "data": {
      "text/plain": [
       "'\\nIMPORTANT\\nOrganizes exctracted dataset files by id\\nUncomment if not already done otherwise find_files() will not work\\n'"
      ]
     },
     "execution_count": 4,
     "metadata": {},
     "output_type": "execute_result"
    }
   ],
   "source": [
    "\"\"\"\n",
    "IMPORTANT\n",
    "Organizes exctracted dataset files by id\n",
    "Uncomment if not already done otherwise find_files() will not work\n",
    "\"\"\"\n",
    "#sort_by_place(\"./data/renders_multicam_diff_1\", 1)"
   ]
  },
  {
   "cell_type": "code",
   "execution_count": 5,
   "metadata": {},
   "outputs": [
    {
     "name": "stdout",
     "output_type": "stream",
     "text": [
      "Found 15 data samples\n"
     ]
    }
   ],
   "source": [
    "data_root = \".\\\\data\\\\renders_multicam_diff_1\"\n",
    "files = create_dataset_json.find_files(data_root)\n",
    "anno_dict = dict({\"images\": [], \"annotations\": [], \"categories\": []})\n",
    "\n",
    "# Further processing of the files can be done here\n",
    "print(f\"Found {len(files)} data samples\")"
   ]
  },
  {
   "cell_type": "code",
   "execution_count": 6,
   "metadata": {},
   "outputs": [
    {
     "data": {
      "text/plain": [
       "{'label1': '.\\\\data\\\\renders_multicam_diff_1\\\\0101050fe5ed48399f99247e7534d6e2\\\\stcg.us.0003_0101050fe5ed48399f99247e7534d6e2_cam-0_change-0-segmentation0001.exr',\n",
       " 'label2': '.\\\\data\\\\renders_multicam_diff_1\\\\0101050fe5ed48399f99247e7534d6e2\\\\stcg.us.0003_0101050fe5ed48399f99247e7534d6e2_cam-0_change-1-segmentation0001.exr',\n",
       " 'label': '.\\\\data\\\\renders_multicam_diff_1\\\\0101050fe5ed48399f99247e7534d6e2\\\\stcg.us.0003_0101050fe5ed48399f99247e7534d6e2_cam-0-label.png',\n",
       " 'label1_json': '.\\\\data\\\\renders_multicam_diff_1\\\\0101050fe5ed48399f99247e7534d6e2\\\\stcg.us.0003_0101050fe5ed48399f99247e7534d6e2_cam-0_change-0_label.json',\n",
       " 'label2_json': '.\\\\data\\\\renders_multicam_diff_1\\\\0101050fe5ed48399f99247e7534d6e2\\\\stcg.us.0003_0101050fe5ed48399f99247e7534d6e2_cam-0_change-1_label.json',\n",
       " 'bbox_json': '.\\\\data\\\\renders_multicam_diff_1\\\\0101050fe5ed48399f99247e7534d6e2\\\\stcg.us.0003_0101050fe5ed48399f99247e7534d6e2_cam-0-boxes.json'}"
      ]
     },
     "execution_count": 6,
     "metadata": {},
     "output_type": "execute_result"
    }
   ],
   "source": [
    "files[0]"
   ]
  },
  {
   "cell_type": "code",
   "execution_count": 7,
   "metadata": {},
   "outputs": [
    {
     "name": "stdout",
     "output_type": "stream",
     "text": [
      "{'label1': './data/renders_multicam_diff_1\\\\0101050fe5ed48399f99247e7534d6e2\\\\stcg.us.0003_0101050fe5ed48399f99247e7534d6e2_cam-0_change-0-segmentation0001.exr', 'label2': './data/renders_multicam_diff_1\\\\0101050fe5ed48399f99247e7534d6e2\\\\stcg.us.0003_0101050fe5ed48399f99247e7534d6e2_cam-0_change-1-segmentation0001.exr', 'label': './data/renders_multicam_diff_1\\\\0101050fe5ed48399f99247e7534d6e2\\\\stcg.us.0003_0101050fe5ed48399f99247e7534d6e2_cam-0-label.png', 'label1_json': './data/renders_multicam_diff_1\\\\0101050fe5ed48399f99247e7534d6e2\\\\stcg.us.0003_0101050fe5ed48399f99247e7534d6e2_cam-0_change-0_label.json', 'label2_json': './data/renders_multicam_diff_1\\\\0101050fe5ed48399f99247e7534d6e2\\\\stcg.us.0003_0101050fe5ed48399f99247e7534d6e2_cam-0_change-1_label.json', 'bbox_json': './data/renders_multicam_diff_1\\\\0101050fe5ed48399f99247e7534d6e2\\\\stcg.us.0003_0101050fe5ed48399f99247e7534d6e2_cam-0-boxes.json'}\n"
     ]
    },
    {
     "ename": "error",
     "evalue": "OpenCV(4.9.0) D:\\a\\opencv-python\\opencv-python\\opencv\\modules\\imgcodecs\\src\\grfmt_exr.cpp:103: error: (-213:The function/feature is not implemented) imgcodecs: OpenEXR codec is disabled. You can enable it via 'OPENCV_IO_ENABLE_OPENEXR' option. Refer for details and cautions here: https://github.com/opencv/opencv/issues/21326 in function 'cv::initOpenEXR'\n",
     "output_type": "error",
     "traceback": [
      "\u001b[1;31m---------------------------------------------------------------------------\u001b[0m",
      "\u001b[1;31merror\u001b[0m                                     Traceback (most recent call last)",
      "Cell \u001b[1;32mIn[7], line 6\u001b[0m\n\u001b[0;32m      1\u001b[0m \u001b[38;5;124;03m\"\"\"\u001b[39;00m\n\u001b[0;32m      2\u001b[0m \u001b[38;5;124;03mdo \"set OPENCV_IO_ENABLE_OPENEXR=1\" in cmd before running this script\u001b[39;00m\n\u001b[0;32m      3\u001b[0m \u001b[38;5;124;03mthough I couldnt get it to work\u001b[39;00m\n\u001b[0;32m      4\u001b[0m \u001b[38;5;124;03mhttps://github.com/opencv/opencv/issues/21928\u001b[39;00m\n\u001b[0;32m      5\u001b[0m \u001b[38;5;124;03m\"\"\"\u001b[39;00m\n\u001b[1;32m----> 6\u001b[0m \u001b[43mcreate_dataset_json\u001b[49m\u001b[38;5;241;43m.\u001b[39;49m\u001b[43mmain_function\u001b[49m\u001b[43m(\u001b[49m\u001b[43m)\u001b[49m\n",
      "File \u001b[1;32mc:\\Uni\\Semester6\\GMM\\Group Project\\datasets\\create_dataset_json.py:452\u001b[0m, in \u001b[0;36mmain_function\u001b[1;34m()\u001b[0m\n\u001b[0;32m    450\u001b[0m label_file1 \u001b[38;5;241m=\u001b[39m file[\u001b[38;5;124m\"\u001b[39m\u001b[38;5;124mlabel1\u001b[39m\u001b[38;5;124m\"\u001b[39m]\n\u001b[0;32m    451\u001b[0m label_file2 \u001b[38;5;241m=\u001b[39m file[\u001b[38;5;124m\"\u001b[39m\u001b[38;5;124mlabel2\u001b[39m\u001b[38;5;124m\"\u001b[39m]\n\u001b[1;32m--> 452\u001b[0m label1 \u001b[38;5;241m=\u001b[39m \u001b[43mcv2\u001b[49m\u001b[38;5;241;43m.\u001b[39;49m\u001b[43mimread\u001b[49m\u001b[43m(\u001b[49m\u001b[43mlabel_file1\u001b[49m\u001b[43m,\u001b[49m\u001b[43m \u001b[49m\u001b[43mcv2\u001b[49m\u001b[38;5;241;43m.\u001b[39;49m\u001b[43mIMREAD_ANYCOLOR\u001b[49m\u001b[43m \u001b[49m\u001b[38;5;241;43m|\u001b[39;49m\u001b[43m \u001b[49m\u001b[43mcv2\u001b[49m\u001b[38;5;241;43m.\u001b[39;49m\u001b[43mIMREAD_ANYDEPTH\u001b[49m\u001b[43m)\u001b[49m[:, :, \u001b[38;5;241m0\u001b[39m]\n\u001b[0;32m    453\u001b[0m label2 \u001b[38;5;241m=\u001b[39m cv2\u001b[38;5;241m.\u001b[39mimread(label_file2, cv2\u001b[38;5;241m.\u001b[39mIMREAD_ANYCOLOR \u001b[38;5;241m|\u001b[39m cv2\u001b[38;5;241m.\u001b[39mIMREAD_ANYDEPTH)[:, :, \u001b[38;5;241m0\u001b[39m]\n\u001b[0;32m    454\u001b[0m label1_json \u001b[38;5;241m=\u001b[39m file[\u001b[38;5;124m\"\u001b[39m\u001b[38;5;124mlabel1_json\u001b[39m\u001b[38;5;124m\"\u001b[39m]\n",
      "\u001b[1;31merror\u001b[0m: OpenCV(4.9.0) D:\\a\\opencv-python\\opencv-python\\opencv\\modules\\imgcodecs\\src\\grfmt_exr.cpp:103: error: (-213:The function/feature is not implemented) imgcodecs: OpenEXR codec is disabled. You can enable it via 'OPENCV_IO_ENABLE_OPENEXR' option. Refer for details and cautions here: https://github.com/opencv/opencv/issues/21326 in function 'cv::initOpenEXR'\n"
     ]
    }
   ],
   "source": [
    "\"\"\"\n",
    "do \"set OPENCV_IO_ENABLE_OPENEXR=1\" in cmd before running this script\n",
    "though I couldnt get it to work\n",
    "https://github.com/opencv/opencv/issues/21928\n",
    "\"\"\"\n",
    "create_dataset_json.main_function()"
   ]
  },
  {
   "cell_type": "code",
   "execution_count": null,
   "metadata": {},
   "outputs": [],
   "source": []
  },
  {
   "cell_type": "code",
   "execution_count": null,
   "metadata": {},
   "outputs": [],
   "source": [
    "#move_scene_errors('/renders_multicam_diff_1', '/scene_error_renders_multicam_diff_1', 'scene_errors.txt'):\n",
    "#remove_scenes_from_imageset('scene_errors.txt' , '/synthetic_data_baselines/imagesets')\n",
    "#analyze_scenes('./data/renders_multicam_diff_1', './imagesets')\n",
    "#generate_standalone_depthmaps('/renders_multicam_diff_1', '/renders_multicam_diff_1_depth')"
   ]
  },
  {
   "cell_type": "code",
   "execution_count": null,
   "metadata": {},
   "outputs": [],
   "source": [
    "#PROCESS THE DATA\n"
   ]
  },
  {
   "cell_type": "code",
   "execution_count": null,
   "metadata": {},
   "outputs": [],
   "source": [
    "#NORMALIZE THE DATA"
   ]
  },
  {
   "cell_type": "code",
   "execution_count": null,
   "metadata": {},
   "outputs": [],
   "source": [
    "#AUGMENT THE DATA"
   ]
  },
  {
   "cell_type": "code",
   "execution_count": null,
   "metadata": {},
   "outputs": [],
   "source": [
    "#SPLIT THE DATA"
   ]
  },
  {
   "cell_type": "code",
   "execution_count": null,
   "metadata": {},
   "outputs": [],
   "source": []
  }
 ],
 "metadata": {
  "kernelspec": {
   "display_name": "myenv",
   "language": "python",
   "name": "python3"
  },
  "language_info": {
   "codemirror_mode": {
    "name": "ipython",
    "version": 3
   },
   "file_extension": ".py",
   "mimetype": "text/x-python",
   "name": "python",
   "nbconvert_exporter": "python",
   "pygments_lexer": "ipython3",
   "version": "3.10.13"
  }
 },
 "nbformat": 4,
 "nbformat_minor": 2
}
