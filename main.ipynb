{
 "cells": [
  {
   "cell_type": "code",
   "execution_count": null,
   "metadata": {},
   "outputs": [],
   "source": [
    "import os\n",
    "os.environ['OPENCV_IO_ENABLE_OPENEXR'] = '1'\n",
    "from glob import glob\n",
    "import datasets.create_dataset_json as create_dataset_json\n",
    "import os\n",
    "import cv2\n",
    "import time\n",
    "import json\n",
    "import numpy as np\n",
    "import glob\n",
    "from PIL import Image\n",
    "from skimage import measure\n",
    "#from matplotlib.patches import Polygon\n",
    "from shapely.geometry import Polygon, MultiPolygon\n",
    "from typing import Any, Dict, List, Optional, Set\n",
    "from utils.temp import sort_by_place"
   ]
  },
  {
   "cell_type": "code",
   "execution_count": null,
   "metadata": {},
   "outputs": [],
   "source": [
    "\"\"\"\n",
    "IMPORTANT\n",
    "Organizes exctracted dataset files by id\n",
    "Uncomment if not already done otherwise find_files() will not work\n",
    "\"\"\"\n",
    "#sort_by_place(\"./data/renders_multicam_diff_1\", 1)"
   ]
  },
  {
   "cell_type": "code",
   "execution_count": null,
   "metadata": {},
   "outputs": [],
   "source": [
    "data_root = \".\\\\data\\\\renders_multicam_diff_1\"\n",
    "files = create_dataset_json.find_files(data_root)\n",
    "anno_dict = dict({\"images\": [], \"annotations\": [], \"categories\": []})\n",
    "\n",
    "# Further processing of the files can be done here\n",
    "print(f\"Found {len(files)} data samples\")"
   ]
  },
  {
   "cell_type": "code",
   "execution_count": null,
   "metadata": {},
   "outputs": [],
   "source": [
    "files[0]"
   ]
  },
  {
   "cell_type": "code",
   "execution_count": null,
   "metadata": {},
   "outputs": [],
   "source": [
    "create_dataset_json.main_function()"
   ]
  },
  {
   "cell_type": "code",
   "execution_count": null,
   "metadata": {},
   "outputs": [],
   "source": []
  },
  {
   "cell_type": "code",
   "execution_count": null,
   "metadata": {},
   "outputs": [],
   "source": [
    "#move_scene_errors('/renders_multicam_diff_1', '/scene_error_renders_multicam_diff_1', 'scene_errors.txt'):\n",
    "#remove_scenes_from_imageset('scene_errors.txt' , '/synthetic_data_baselines/imagesets')\n",
    "#analyze_scenes('./data/renders_multicam_diff_1', './imagesets')\n",
    "#generate_standalone_depthmaps('/renders_multicam_diff_1', '/renders_multicam_diff_1_depth')"
   ]
  },
  {
   "cell_type": "code",
   "execution_count": null,
   "metadata": {},
   "outputs": [],
   "source": [
    "#PROCESS THE DATA\n"
   ]
  },
  {
   "cell_type": "code",
   "execution_count": null,
   "metadata": {},
   "outputs": [],
   "source": [
    "#NORMALIZE THE DATA"
   ]
  },
  {
   "cell_type": "code",
   "execution_count": null,
   "metadata": {},
   "outputs": [],
   "source": [
    "#AUGMENT THE DATA"
   ]
  },
  {
   "cell_type": "code",
   "execution_count": null,
   "metadata": {},
   "outputs": [],
   "source": [
    "#SPLIT THE DATA"
   ]
  },
  {
   "cell_type": "code",
   "execution_count": null,
   "metadata": {},
   "outputs": [],
   "source": []
  }
 ],
 "metadata": {
  "kernelspec": {
   "display_name": "myenv",
   "language": "python",
   "name": "python3"
  },
  "language_info": {
   "codemirror_mode": {
    "name": "ipython",
    "version": 3
   },
   "file_extension": ".py",
   "mimetype": "text/x-python",
   "name": "python",
   "nbconvert_exporter": "python",
   "pygments_lexer": "ipython3",
   "version": "3.10.13"
  }
 },
 "nbformat": 4,
 "nbformat_minor": 2
}
