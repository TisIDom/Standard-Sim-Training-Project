{
 "cells": [
  {
   "cell_type": "code",
   "execution_count": 1,
   "metadata": {},
   "outputs": [],
   "source": [
    "import os\n",
    "os.environ['OPENCV_IO_ENABLE_OPENEXR'] = '1'\n",
    "from glob import glob\n",
    "import datasets.create_dataset_json as create_dataset_json\n",
    "import os\n",
    "import cv2\n",
    "import time\n",
    "import json\n",
    "import numpy as np\n",
    "import glob\n",
    "from PIL import Image\n",
    "from skimage import measure\n",
    "#from matplotlib.patches import Polygon\n",
    "from shapely.geometry import Polygon, MultiPolygon\n",
    "from typing import Any, Dict, List, Optional, Set\n",
    "from utils.temp import sort_by_place"
   ]
  },
  {
   "cell_type": "code",
   "execution_count": 2,
   "metadata": {},
   "outputs": [
    {
     "data": {
      "text/plain": [
       "'\\nIMPORTANT\\nOrganizes exctracted dataset files by id\\nUncomment if not already done otherwise find_files() will not work\\n'"
      ]
     },
     "execution_count": 2,
     "metadata": {},
     "output_type": "execute_result"
    }
   ],
   "source": [
    "\"\"\"\n",
    "IMPORTANT\n",
    "Organizes exctracted dataset files by id\n",
    "Uncomment if not already done otherwise find_files() will not work\n",
    "\"\"\"\n",
    "#sort_by_place(\"./data/renders_multicam_diff_1\", 1)"
   ]
  },
  {
   "cell_type": "code",
   "execution_count": 3,
   "metadata": {},
   "outputs": [
    {
     "name": "stdout",
     "output_type": "stream",
     "text": [
      "Found 15 data samples\n"
     ]
    }
   ],
   "source": [
    "data_root = \".\\\\data\\\\renders_multicam_diff_1\"\n",
    "files = create_dataset_json.find_files(data_root)\n",
    "anno_dict = dict({\"images\": [], \"annotations\": [], \"categories\": []})\n",
    "\n",
    "# Further processing of the files can be done here\n",
    "print(f\"Found {len(files)} data samples\")"
   ]
  },
  {
   "cell_type": "code",
   "execution_count": 4,
   "metadata": {},
   "outputs": [
    {
     "data": {
      "text/plain": [
       "{'label1': '.\\\\data\\\\renders_multicam_diff_1\\\\0101050fe5ed48399f99247e7534d6e2\\\\stcg.us.0003_0101050fe5ed48399f99247e7534d6e2_cam-0_change-0-segmentation0001.exr',\n",
       " 'label2': '.\\\\data\\\\renders_multicam_diff_1\\\\0101050fe5ed48399f99247e7534d6e2\\\\stcg.us.0003_0101050fe5ed48399f99247e7534d6e2_cam-0_change-1-segmentation0001.exr',\n",
       " 'label': '.\\\\data\\\\renders_multicam_diff_1\\\\0101050fe5ed48399f99247e7534d6e2\\\\stcg.us.0003_0101050fe5ed48399f99247e7534d6e2_cam-0-label.png',\n",
       " 'label1_json': '.\\\\data\\\\renders_multicam_diff_1\\\\0101050fe5ed48399f99247e7534d6e2\\\\stcg.us.0003_0101050fe5ed48399f99247e7534d6e2_cam-0_change-0_label.json',\n",
       " 'label2_json': '.\\\\data\\\\renders_multicam_diff_1\\\\0101050fe5ed48399f99247e7534d6e2\\\\stcg.us.0003_0101050fe5ed48399f99247e7534d6e2_cam-0_change-1_label.json',\n",
       " 'bbox_json': '.\\\\data\\\\renders_multicam_diff_1\\\\0101050fe5ed48399f99247e7534d6e2\\\\stcg.us.0003_0101050fe5ed48399f99247e7534d6e2_cam-0-boxes.json'}"
      ]
     },
     "execution_count": 4,
     "metadata": {},
     "output_type": "execute_result"
    }
   ],
   "source": [
    "files[0]"
   ]
  },
  {
   "cell_type": "code",
   "execution_count": 5,
   "metadata": {},
   "outputs": [
    {
     "name": "stdout",
     "output_type": "stream",
     "text": [
      "{'label1': './data/renders_multicam_diff_1\\\\0101050fe5ed48399f99247e7534d6e2\\\\stcg.us.0003_0101050fe5ed48399f99247e7534d6e2_cam-0_change-0-segmentation0001.exr', 'label2': './data/renders_multicam_diff_1\\\\0101050fe5ed48399f99247e7534d6e2\\\\stcg.us.0003_0101050fe5ed48399f99247e7534d6e2_cam-0_change-1-segmentation0001.exr', 'label': './data/renders_multicam_diff_1\\\\0101050fe5ed48399f99247e7534d6e2\\\\stcg.us.0003_0101050fe5ed48399f99247e7534d6e2_cam-0-label.png', 'label1_json': './data/renders_multicam_diff_1\\\\0101050fe5ed48399f99247e7534d6e2\\\\stcg.us.0003_0101050fe5ed48399f99247e7534d6e2_cam-0_change-0_label.json', 'label2_json': './data/renders_multicam_diff_1\\\\0101050fe5ed48399f99247e7534d6e2\\\\stcg.us.0003_0101050fe5ed48399f99247e7534d6e2_cam-0_change-1_label.json', 'bbox_json': './data/renders_multicam_diff_1\\\\0101050fe5ed48399f99247e7534d6e2\\\\stcg.us.0003_0101050fe5ed48399f99247e7534d6e2_cam-0-boxes.json'}\n",
      "WTF? \n",
      "['stcg.us.0003', '0101050fe5ed48399f99247e7534d6e2', 'cam-0']\n",
      "stcg.us.0003_0101050fe5ed48399f99247e7534d6e2_cam-0\n"
     ]
    }
   ],
   "source": [
    "create_dataset_json.main_function()"
   ]
  },
  {
   "cell_type": "code",
   "execution_count": null,
   "metadata": {},
   "outputs": [],
   "source": []
  },
  {
   "cell_type": "code",
   "execution_count": null,
   "metadata": {},
   "outputs": [],
   "source": [
    "#move_scene_errors('/renders_multicam_diff_1', '/scene_error_renders_multicam_diff_1', 'scene_errors.txt'):\n",
    "#remove_scenes_from_imageset('scene_errors.txt' , '/synthetic_data_baselines/imagesets')\n",
    "#analyze_scenes('./data/renders_multicam_diff_1', './imagesets')\n",
    "#generate_standalone_depthmaps('/renders_multicam_diff_1', '/renders_multicam_diff_1_depth')"
   ]
  },
  {
   "cell_type": "code",
   "execution_count": null,
   "metadata": {},
   "outputs": [],
   "source": [
    "#PROCESS THE DATA\n"
   ]
  },
  {
   "cell_type": "code",
   "execution_count": null,
   "metadata": {},
   "outputs": [],
   "source": [
    "#NORMALIZE THE DATA"
   ]
  },
  {
   "cell_type": "code",
   "execution_count": null,
   "metadata": {},
   "outputs": [],
   "source": [
    "#AUGMENT THE DATA"
   ]
  },
  {
   "cell_type": "code",
   "execution_count": null,
   "metadata": {},
   "outputs": [],
   "source": [
    "#SPLIT THE DATA"
   ]
  },
  {
   "cell_type": "code",
   "execution_count": null,
   "metadata": {},
   "outputs": [],
   "source": []
  }
 ],
 "metadata": {
  "kernelspec": {
   "display_name": "myenv",
   "language": "python",
   "name": "python3"
  },
  "language_info": {
   "codemirror_mode": {
    "name": "ipython",
    "version": 3
   },
   "file_extension": ".py",
   "mimetype": "text/x-python",
   "name": "python",
   "nbconvert_exporter": "python",
   "pygments_lexer": "ipython3",
   "version": "3.10.13"
  }
 },
 "nbformat": 4,
 "nbformat_minor": 2
}
